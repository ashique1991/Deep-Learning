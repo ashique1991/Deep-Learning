{
 "cells": [
  {
   "cell_type": "code",
   "execution_count": 1,
   "id": "11814b4a",
   "metadata": {},
   "outputs": [],
   "source": [
    "import numpy as np\n",
    "import pandas as pd\n",
    "import matplotlib.pyplot as plt\n",
    "from sklearn.model_selection import train_test_split\n",
    "from sklearn.preprocessing import MinMaxScaler\n",
    "from tensorflow.keras.layers import LSTM, Dense\n",
    "from tensorflow.keras.models import Sequential\n",
    "from sklearn.model_selection import GridSearchCV\n",
    "from tensorflow.keras.wrappers.scikit_learn import KerasClassifier\n",
    "from sklearn.metrics import r2_score\n",
    "from sklearn.metrics import mean_squared_error"
   ]
  },
  {
   "cell_type": "markdown",
   "id": "04dd80d2",
   "metadata": {},
   "source": [
    "# Data Cleaning"
   ]
  },
  {
   "cell_type": "code",
   "execution_count": 2,
   "id": "b02c114a",
   "metadata": {},
   "outputs": [],
   "source": [
    "df_1 = pd.read_csv('divisions daily weather.csv')\n",
    "sylhet_daily_weather = df_1[df_1['Division'] == 'Sylhet']\n",
    "sylhet_daily_weather_sorted = sylhet_daily_weather.sort_values(by=['Year','Month','Day'])"
   ]
  },
  {
   "cell_type": "code",
   "execution_count": 3,
   "id": "efb6ec0f",
   "metadata": {},
   "outputs": [],
   "source": [
    "month_dict = {'January': 1, 'February': 2, 'March': 3, 'April': 4, 'May': 5, 'June': 6,\n",
    "              'July': 7, 'August': 8, 'September': 9, 'October': 10, 'November': 11, 'December': 12}\n",
    "# Convert month names to numeric values\n",
    "sylhet_daily_weather_sorted['Month'] = sylhet_daily_weather_sorted['Month'].map(month_dict)"
   ]
  },
  {
   "cell_type": "code",
   "execution_count": 4,
   "id": "828a0e90",
   "metadata": {},
   "outputs": [],
   "source": [
    "sylhet_daily_weather_sorted['Date'] = pd.to_datetime(sylhet_daily_weather_sorted[['Year', 'Month', 'Day']])\n",
    "sylhet_daily_weather_Date = sylhet_daily_weather_sorted"
   ]
  },
  {
   "cell_type": "code",
   "execution_count": 5,
   "id": "59ec1f23",
   "metadata": {},
   "outputs": [],
   "source": [
    "sylhet_daily_weather_Date = sylhet_daily_weather_Date[['Date','cloudcover','dew','humidity','precip','tempmax','tempmin','windspeed','Flood']]"
   ]
  },
  {
   "cell_type": "code",
   "execution_count": 6,
   "id": "6757946f",
   "metadata": {},
   "outputs": [],
   "source": [
    "# 1 = Flood = False\n",
    "# 0 = Flood = True\n",
    "sylhet_daily_weather_Date = sylhet_daily_weather_Date.copy()\n",
    "sylhet_daily_weather_Date.loc[:, 'Flood'] = sylhet_daily_weather_Date.loc[:, 'Flood'].astype(int)"
   ]
  },
  {
   "cell_type": "markdown",
   "id": "a499d8e7",
   "metadata": {},
   "source": [
    "# Child Model "
   ]
  },
  {
   "cell_type": "code",
   "execution_count": 7,
   "id": "13e9f3f7",
   "metadata": {},
   "outputs": [],
   "source": [
    "sylhet_daily_weather_child = sylhet_daily_weather_Date"
   ]
  },
  {
   "cell_type": "code",
   "execution_count": 8,
   "id": "30e60366",
   "metadata": {},
   "outputs": [],
   "source": [
    "sylhet_daily_weather_child = sylhet_daily_weather_child.set_index('Date')"
   ]
  },
  {
   "cell_type": "code",
   "execution_count": 9,
   "id": "0806c18c",
   "metadata": {},
   "outputs": [],
   "source": [
    "features = sylhet_daily_weather_child.columns[:-1]"
   ]
  },
  {
   "cell_type": "code",
   "execution_count": 10,
   "id": "1ab62cdc",
   "metadata": {},
   "outputs": [],
   "source": [
    "# DataFrame to numpy array\n",
    "data = sylhet_daily_weather_child[features].values\n",
    "target = sylhet_daily_weather_child['Flood'].values"
   ]
  },
  {
   "cell_type": "code",
   "execution_count": 11,
   "id": "747ed116",
   "metadata": {},
   "outputs": [],
   "source": [
    "scaler = MinMaxScaler(feature_range=(0, 1))\n",
    "data_scaled = scaler.fit_transform(data)"
   ]
  },
  {
   "cell_type": "code",
   "execution_count": 12,
   "id": "846688ca",
   "metadata": {},
   "outputs": [],
   "source": [
    "# Sequences for LSTM\n",
    "sequence_length = 10  \n",
    "X, y = [], []\n",
    "for i in range(len(data_scaled) - sequence_length):\n",
    "    X.append(data_scaled[i:i+sequence_length, :])\n",
    "    y.append(target[i+sequence_length])\n",
    "\n",
    "X, y = np.array(X), np.array(y)"
   ]
  },
  {
   "cell_type": "code",
   "execution_count": 13,
   "id": "bd4570f3",
   "metadata": {},
   "outputs": [],
   "source": [
    "# Train-test split\n",
    "X_train, X_test, y_train, y_test = train_test_split(X, y, test_size=0.3, random_state=42)"
   ]
  },
  {
   "cell_type": "code",
   "execution_count": 14,
   "id": "e4ec13e2",
   "metadata": {},
   "outputs": [
    {
     "name": "stderr",
     "output_type": "stream",
     "text": [
      "C:\\Users\\HP\\AppData\\Local\\Temp\\ipykernel_3156\\3692219431.py:10: DeprecationWarning: KerasClassifier is deprecated, use Sci-Keras (https://github.com/adriangb/scikeras) instead. See https://www.adriangb.com/scikeras/stable/migration.html for help migrating.\n",
      "  model = KerasClassifier(build_fn=create_lstm_model, epochs=10, batch_size=32, verbose=0)\n"
     ]
    },
    {
     "name": "stdout",
     "output_type": "stream",
     "text": [
      "29/29 [==============================] - 1s 3ms/step\n",
      "29/29 [==============================] - 1s 2ms/step\n",
      "29/29 [==============================] - 1s 3ms/step\n",
      "29/29 [==============================] - 1s 3ms/step\n",
      "29/29 [==============================] - 1s 3ms/step\n",
      "29/29 [==============================] - 1s 3ms/step\n",
      "29/29 [==============================] - 1s 2ms/step\n",
      "29/29 [==============================] - 1s 2ms/step\n",
      "29/29 [==============================] - 1s 3ms/step\n",
      "29/29 [==============================] - 1s 3ms/step\n",
      "29/29 [==============================] - 1s 2ms/step\n",
      "29/29 [==============================] - 1s 2ms/step\n",
      "29/29 [==============================] - 1s 3ms/step\n",
      "29/29 [==============================] - 1s 3ms/step\n",
      "29/29 [==============================] - 1s 4ms/step\n",
      "29/29 [==============================] - 1s 3ms/step\n",
      "29/29 [==============================] - 1s 3ms/step\n",
      "29/29 [==============================] - 1s 3ms/step\n",
      "Best Parameters: {'optimizer': 'adam', 'units': 100}\n",
      "Best Accuracy: 0.8015350877192983\n"
     ]
    }
   ],
   "source": [
    "def create_lstm_model(units=50, optimizer='adam'):\n",
    "    model = Sequential()\n",
    "    model.add(LSTM(units=units, return_sequences=True, input_shape=(X_train.shape[1], X_train.shape[2])))\n",
    "    model.add(LSTM(units=units))\n",
    "    model.add(Dense(units=1, activation='sigmoid'))\n",
    "    model.compile(optimizer=optimizer, loss='binary_crossentropy', metrics=['accuracy'])\n",
    "    return model\n",
    "\n",
    "# KerasClassifier \n",
    "model = KerasClassifier(build_fn=create_lstm_model, epochs=10, batch_size=32, verbose=0)\n",
    "\n",
    "# hyperparameter grid\n",
    "param_grid = {\n",
    "    'units': [50, 100, 150],\n",
    "    'optimizer': ['adam', 'rmsprop',]\n",
    "}\n",
    "\n",
    "# GridSearchCV to find the best hyperparameters\n",
    "grid = GridSearchCV(estimator=model, param_grid=param_grid, scoring='accuracy', cv=3)\n",
    "grid_result = grid.fit(X_train, y_train)\n",
    "print(f\"Best Parameters: {grid_result.best_params_}\")\n",
    "print(f\"Best Accuracy: {grid_result.best_score_}\")\n"
   ]
  },
  {
   "cell_type": "code",
   "execution_count": 15,
   "id": "c98253b7",
   "metadata": {},
   "outputs": [
    {
     "name": "stdout",
     "output_type": "stream",
     "text": [
      "Epoch 1/19\n",
      "86/86 [==============================] - 5s 10ms/step - loss: 0.5903 - accuracy: 0.6879\n",
      "Epoch 2/19\n",
      "86/86 [==============================] - 1s 7ms/step - loss: 0.5254 - accuracy: 0.7405\n",
      "Epoch 3/19\n",
      "86/86 [==============================] - 1s 6ms/step - loss: 0.4931 - accuracy: 0.7599\n",
      "Epoch 4/19\n",
      "86/86 [==============================] - 1s 6ms/step - loss: 0.4741 - accuracy: 0.7785\n",
      "Epoch 5/19\n",
      "86/86 [==============================] - 1s 6ms/step - loss: 0.4616 - accuracy: 0.7833\n",
      "Epoch 6/19\n",
      "86/86 [==============================] - 1s 7ms/step - loss: 0.4414 - accuracy: 0.7971\n",
      "Epoch 7/19\n",
      "86/86 [==============================] - 1s 6ms/step - loss: 0.4447 - accuracy: 0.7950\n",
      "Epoch 8/19\n",
      "86/86 [==============================] - 1s 6ms/step - loss: 0.4369 - accuracy: 0.7990\n",
      "Epoch 9/19\n",
      "86/86 [==============================] - 1s 6ms/step - loss: 0.4368 - accuracy: 0.8041\n",
      "Epoch 10/19\n",
      "86/86 [==============================] - 1s 6ms/step - loss: 0.4341 - accuracy: 0.8037\n",
      "Epoch 11/19\n",
      "86/86 [==============================] - 1s 6ms/step - loss: 0.4339 - accuracy: 0.8004\n",
      "Epoch 12/19\n",
      "86/86 [==============================] - 1s 6ms/step - loss: 0.4310 - accuracy: 0.8048\n",
      "Epoch 13/19\n",
      "86/86 [==============================] - 1s 6ms/step - loss: 0.4276 - accuracy: 0.8052\n",
      "Epoch 14/19\n",
      "86/86 [==============================] - 1s 6ms/step - loss: 0.4265 - accuracy: 0.8085\n",
      "Epoch 15/19\n",
      "86/86 [==============================] - 1s 6ms/step - loss: 0.4275 - accuracy: 0.8067\n",
      "Epoch 16/19\n",
      "86/86 [==============================] - 1s 6ms/step - loss: 0.4275 - accuracy: 0.8070\n",
      "Epoch 17/19\n",
      "86/86 [==============================] - 1s 6ms/step - loss: 0.4232 - accuracy: 0.8107\n",
      "Epoch 18/19\n",
      "86/86 [==============================] - 1s 6ms/step - loss: 0.4225 - accuracy: 0.8099\n",
      "Epoch 19/19\n",
      "86/86 [==============================] - 1s 6ms/step - loss: 0.4222 - accuracy: 0.8121\n"
     ]
    },
    {
     "data": {
      "text/plain": [
       "<keras.callbacks.History at 0x28c4211ceb0>"
      ]
     },
     "execution_count": 15,
     "metadata": {},
     "output_type": "execute_result"
    }
   ],
   "source": [
    "# Train the model with best hyperparameters\n",
    "best_params = grid_result.best_params_\n",
    "final_model = create_lstm_model(units=best_params['units'], optimizer=best_params['optimizer'])\n",
    "final_model.fit(X_train, y_train, epochs=19, batch_size=32)  # Adjust epochs and batch_size as needed"
   ]
  },
  {
   "cell_type": "code",
   "execution_count": 16,
   "id": "b2473771",
   "metadata": {},
   "outputs": [
    {
     "name": "stdout",
     "output_type": "stream",
     "text": [
      "37/37 [==============================] - 1s 4ms/step - loss: 0.4656 - accuracy: 0.7801\n",
      "Test Accuracy: 0.7800511717796326\n"
     ]
    }
   ],
   "source": [
    "test_loss, test_accuracy = final_model.evaluate(X_test, y_test)\n",
    "print(f\"Test Accuracy: {test_accuracy}\")\n"
   ]
  },
  {
   "cell_type": "markdown",
   "id": "729bcaba",
   "metadata": {},
   "source": [
    "# Evaluation of Model Performance"
   ]
  },
  {
   "cell_type": "code",
   "execution_count": 63,
   "id": "652a3940",
   "metadata": {},
   "outputs": [
    {
     "name": "stdout",
     "output_type": "stream",
     "text": [
      "25/25 [==============================] - 1s 3ms/step\n"
     ]
    }
   ],
   "source": [
    "predictions = final_model.predict(X_test)"
   ]
  },
  {
   "cell_type": "code",
   "execution_count": 64,
   "id": "20920e5e",
   "metadata": {},
   "outputs": [
    {
     "name": "stdout",
     "output_type": "stream",
     "text": [
      "Mean Squared Error (MSE): 0.1584\n"
     ]
    }
   ],
   "source": [
    "\n",
    "mse = mean_squared_error(y_test, predictions)\n",
    "print(f\"Mean Squared Error (MSE): {mse:.4f}\")"
   ]
  },
  {
   "cell_type": "code",
   "execution_count": 65,
   "id": "36c4287f",
   "metadata": {},
   "outputs": [
    {
     "name": "stdout",
     "output_type": "stream",
     "text": [
      "R-squared (R2) Score: 0.3584\n"
     ]
    }
   ],
   "source": [
    "# Calculate the R-squared (R2) score\n",
    "r2 = r2_score(y_test, predictions)\n",
    "print(f\"R-squared (R2) Score: {r2:.4f}\")"
   ]
  },
  {
   "cell_type": "code",
   "execution_count": 66,
   "id": "19b9a83f",
   "metadata": {},
   "outputs": [
    {
     "name": "stdout",
     "output_type": "stream",
     "text": [
      "25/25 [==============================] - 0s 3ms/step\n",
      "            cloudcover   dew  humidity  precip  tempmax  tempmin  windspeed  \\\n",
      "Date                                                                          \n",
      "2021-03-04         8.4  50.8      51.1   0.000     88.4     53.0        8.9   \n",
      "2021-03-05        17.2  57.6      66.1   0.008     89.3     56.9        9.4   \n",
      "2021-03-06        46.8  64.7      76.0   0.024     87.0     62.2        8.3   \n",
      "2021-03-07        31.4  62.2      74.1   0.274     87.5     53.7        6.9   \n",
      "2021-03-08        18.1  59.6      69.9   0.391     85.0     54.2        5.6   \n",
      "...                ...   ...       ...     ...      ...      ...        ...   \n",
      "2023-09-26        31.5  76.7      78.6   0.008     93.1     77.1        5.4   \n",
      "2023-09-27        35.6  77.1      78.6   0.008     92.9     78.2        5.6   \n",
      "2023-09-28        57.5  77.7      76.4   0.004     96.7     78.9        5.6   \n",
      "2023-09-29        89.6  76.8      72.3   0.031     97.1     79.4        6.6   \n",
      "2023-09-30        83.7  76.8      80.0   0.024     90.1     78.7        7.2   \n",
      "\n",
      "            Flood  Predicted_Flood  \n",
      "Date                                \n",
      "2021-03-04      0         0.628181  \n",
      "2021-03-05      0         0.577166  \n",
      "2021-03-06      0         0.794037  \n",
      "2021-03-07      1         0.593689  \n",
      "2021-03-08      1         0.424027  \n",
      "...           ...              ...  \n",
      "2023-09-26      0         0.629906  \n",
      "2023-09-27      0         0.878592  \n",
      "2023-09-28      0         0.181959  \n",
      "2023-09-29      0         0.916764  \n",
      "2023-09-30      0         0.007022  \n",
      "\n",
      "[782 rows x 9 columns]\n"
     ]
    }
   ],
   "source": [
    "predicted_labels = final_model.predict(X_test)\n",
    "result_df = pd.DataFrame({'Date': sylhet_daily_weather_child.index[-len(X_test):], 'Predicted_Flood': predicted_labels.flatten()})\n",
    "result_df.set_index('Date', inplace=True)\n",
    "result_df = sylhet_daily_weather_child.join(result_df, how='right')\n",
    "print(result_df)"
   ]
  },
  {
   "cell_type": "code",
   "execution_count": 67,
   "id": "25cc1455",
   "metadata": {},
   "outputs": [
    {
     "name": "stdout",
     "output_type": "stream",
     "text": [
      "25/25 [==============================] - 0s 3ms/step\n"
     ]
    }
   ],
   "source": [
    "predicted_probabilities = final_model.predict(X_test)\n",
    "\n",
    "# threshold of 0.5 to convert probabilities to binary predictions\n",
    "predicted_labels = (predicted_probabilities > 0.5).astype(int)\n",
    "\n",
    "# Maping binary predictions to labels \n",
    "predicted_labels_mapped = ['No Flood Risk' if label == 1 else 'High Flood Risk' for label in predicted_labels.flatten()]\n",
    "\n",
    "# Data Frame with Date and  Predicted Flood Risk\n",
    "result_df = pd.DataFrame({'Date': sylhet_daily_weather_child.index[-len(X_test):], 'Predicted_Flood': predicted_labels_mapped})\n",
    "result_df.set_index('Date', inplace=True)"
   ]
  },
  {
   "cell_type": "code",
   "execution_count": 69,
   "id": "5ace6b41",
   "metadata": {},
   "outputs": [
    {
     "data": {
      "text/html": [
       "<div>\n",
       "<style scoped>\n",
       "    .dataframe tbody tr th:only-of-type {\n",
       "        vertical-align: middle;\n",
       "    }\n",
       "\n",
       "    .dataframe tbody tr th {\n",
       "        vertical-align: top;\n",
       "    }\n",
       "\n",
       "    .dataframe thead th {\n",
       "        text-align: right;\n",
       "    }\n",
       "</style>\n",
       "<table border=\"1\" class=\"dataframe\">\n",
       "  <thead>\n",
       "    <tr style=\"text-align: right;\">\n",
       "      <th></th>\n",
       "      <th>Predicted_Flood</th>\n",
       "    </tr>\n",
       "    <tr>\n",
       "      <th>Date</th>\n",
       "      <th></th>\n",
       "    </tr>\n",
       "  </thead>\n",
       "  <tbody>\n",
       "    <tr>\n",
       "      <th>2023-09-26</th>\n",
       "      <td>No Flood Risk</td>\n",
       "    </tr>\n",
       "    <tr>\n",
       "      <th>2023-09-27</th>\n",
       "      <td>No Flood Risk</td>\n",
       "    </tr>\n",
       "    <tr>\n",
       "      <th>2023-09-28</th>\n",
       "      <td>High Flood Risk</td>\n",
       "    </tr>\n",
       "    <tr>\n",
       "      <th>2023-09-29</th>\n",
       "      <td>No Flood Risk</td>\n",
       "    </tr>\n",
       "    <tr>\n",
       "      <th>2023-09-30</th>\n",
       "      <td>High Flood Risk</td>\n",
       "    </tr>\n",
       "  </tbody>\n",
       "</table>\n",
       "</div>"
      ],
      "text/plain": [
       "            Predicted_Flood\n",
       "Date                       \n",
       "2023-09-26    No Flood Risk\n",
       "2023-09-27    No Flood Risk\n",
       "2023-09-28  High Flood Risk\n",
       "2023-09-29    No Flood Risk\n",
       "2023-09-30  High Flood Risk"
      ]
     },
     "execution_count": 69,
     "metadata": {},
     "output_type": "execute_result"
    }
   ],
   "source": [
    "result_df.tail()"
   ]
  },
  {
   "cell_type": "code",
   "execution_count": null,
   "id": "460880c2",
   "metadata": {},
   "outputs": [],
   "source": []
  }
 ],
 "metadata": {
  "kernelspec": {
   "display_name": "Python 3 (ipykernel)",
   "language": "python",
   "name": "python3"
  },
  "language_info": {
   "codemirror_mode": {
    "name": "ipython",
    "version": 3
   },
   "file_extension": ".py",
   "mimetype": "text/x-python",
   "name": "python",
   "nbconvert_exporter": "python",
   "pygments_lexer": "ipython3",
   "version": "3.9.18"
  }
 },
 "nbformat": 4,
 "nbformat_minor": 5
}
